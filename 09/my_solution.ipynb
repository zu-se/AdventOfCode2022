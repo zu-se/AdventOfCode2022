{
 "cells": [
  {
   "attachments": {},
   "cell_type": "markdown",
   "metadata": {},
   "source": [
    "# import and format"
   ]
  },
  {
   "cell_type": "code",
   "execution_count": 1,
   "metadata": {},
   "outputs": [],
   "source": [
    "import re\n",
    "\n",
    "input = 'input_example_2.txt'\n",
    "input = 'input_example_1.txt'\n",
    "input = 'input.txt'\n",
    "\n",
    "lines = open(input).readlines()\n",
    "lines = [re.sub('\\n', '', line) for line in lines]\n",
    "instructions = [re.split(' ', line) for line in lines]\n",
    "instructions = [[instruction[0], int(instruction[1])]for instruction in instructions]"
   ]
  },
  {
   "attachments": {},
   "cell_type": "markdown",
   "metadata": {},
   "source": [
    "# solution"
   ]
  },
  {
   "cell_type": "code",
   "execution_count": 2,
   "metadata": {},
   "outputs": [],
   "source": [
    "def chebyshev_distance(point1, point2):    \n",
    "    return max([abs(point1[0]-point2[0]), abs(point1[1]-point2[1])])\n",
    "\n",
    "def unique_list(_list):\n",
    "    return [eval(unique_element) for unique_element in set([str(element) for element in _list])]\n",
    "\n",
    "def move_rope(rope_state, direction):\n",
    "    direction_offsets = {'R': [1,0], 'L': [-1,0], 'U': [0,1], 'D': [0,-1]}\n",
    "\n",
    "    # move the head\n",
    "    rope_state[0] = [a+b for a,b in zip(rope_state[0], direction_offsets[direction])]\n",
    "\n",
    "    # move the rope\n",
    "    for i_knot in range(1, len(rope_state)):\n",
    "        # distance from tail to head or from knot to knot\n",
    "        # using the Chebyshev distance metric so that diagonal move is also equal to 1\n",
    "        distance = chebyshev_distance(*rope_state[i_knot-1:i_knot+1])\n",
    "        if distance > 1:\n",
    "            # move in x\n",
    "            x_distance = rope_state[i_knot-1][0] - rope_state[i_knot][0]\n",
    "            if x_distance > 0:\n",
    "                rope_state[i_knot][0] += 1\n",
    "            if x_distance < 0:\n",
    "                rope_state[i_knot][0] -= 1\n",
    "            # move in y\n",
    "            y_distance = rope_state[i_knot-1][1] - rope_state[i_knot][1]\n",
    "            if y_distance > 0:\n",
    "                rope_state[i_knot][1] += 1\n",
    "            if y_distance < 0:\n",
    "                rope_state[i_knot][1] -= 1\n",
    "    \n",
    "    return rope_state\n",
    "\n",
    "def get_head_and_tail_trajectory(instructions, n_knots):\n",
    "    n_steps_total = sum([instruction[1] for instruction in instructions])\n",
    "    rope_state = [[0,0] for i in range(n_knots)]\n",
    "    tail_pos_history = [[0,0] for i in range(n_steps_total+1)] # mind the start position\n",
    "    head_pos_history = [[0,0] for i in range(n_steps_total+1)] # mind the start position\n",
    "    i_total_step = 0\n",
    "    for i_instruction, [direction, steps] in enumerate(instructions):\n",
    "        for i_step in range(steps):\n",
    "            i_total_step += 1\n",
    "\n",
    "            rope_state = move_rope(rope_state, direction)\n",
    "\n",
    "            # save history for head and tail for every step\n",
    "            head_pos_history[i_total_step][0] = rope_state[0][0]\n",
    "            head_pos_history[i_total_step][1] = rope_state[0][1]\n",
    "            tail_pos_history[i_total_step][0] = rope_state[-1][0]\n",
    "            tail_pos_history[i_total_step][1] = rope_state[-1][1]\n",
    "\n",
    "    return [head_pos_history, tail_pos_history]"
   ]
  },
  {
   "attachments": {},
   "cell_type": "markdown",
   "metadata": {},
   "source": [
    "## part one"
   ]
  },
  {
   "cell_type": "code",
   "execution_count": 3,
   "metadata": {},
   "outputs": [
    {
     "name": "stdout",
     "output_type": "stream",
     "text": [
      "6354\n"
     ]
    }
   ],
   "source": [
    "head_history, tail_history = get_head_and_tail_trajectory(instructions, n_knots=2)\n",
    "print(len(unique_list(tail_history)))"
   ]
  },
  {
   "attachments": {},
   "cell_type": "markdown",
   "metadata": {},
   "source": [
    "## part two"
   ]
  },
  {
   "cell_type": "code",
   "execution_count": 4,
   "metadata": {},
   "outputs": [
    {
     "name": "stdout",
     "output_type": "stream",
     "text": [
      "2651\n"
     ]
    }
   ],
   "source": [
    "head_history, tail_history = get_head_and_tail_trajectory(instructions, n_knots=10)\n",
    "print(len(unique_list(tail_history)))"
   ]
  }
 ],
 "metadata": {
  "kernelspec": {
   "display_name": "Python 3",
   "language": "python",
   "name": "python3"
  },
  "language_info": {
   "codemirror_mode": {
    "name": "ipython",
    "version": 3
   },
   "file_extension": ".py",
   "mimetype": "text/x-python",
   "name": "python",
   "nbconvert_exporter": "python",
   "pygments_lexer": "ipython3",
   "version": "3.9.6"
  },
  "orig_nbformat": 4,
  "vscode": {
   "interpreter": {
    "hash": "23b37b2c5ef3af92e6c5a1f41260f4d7d87b94b19a6a0241a9df183c040122f9"
   }
  }
 },
 "nbformat": 4,
 "nbformat_minor": 2
}
