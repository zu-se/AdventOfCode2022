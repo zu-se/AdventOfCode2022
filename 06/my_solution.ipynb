{
 "cells": [
  {
   "attachments": {},
   "cell_type": "markdown",
   "metadata": {},
   "source": [
    "# import and format"
   ]
  },
  {
   "cell_type": "code",
   "execution_count": 1,
   "metadata": {},
   "outputs": [],
   "source": [
    "input = 'input_example.txt'\n",
    "input = 'input.txt'\n",
    "\n",
    "lines = open(input).readlines()\n",
    "char_arrays = [list(line) for line in lines]"
   ]
  },
  {
   "attachments": {},
   "cell_type": "markdown",
   "metadata": {},
   "source": [
    "# solution for both parts"
   ]
  },
  {
   "cell_type": "code",
   "execution_count": 2,
   "metadata": {},
   "outputs": [],
   "source": [
    "def marker_occurance(n_chars, char_array):\n",
    "    sequences = [char_array[i-n_chars:i] for i in range(n_chars,len(char_array)+1)]\n",
    "    permutation = [[i,j] for i in range(n_chars) for j in range(n_chars) if i != j and j > i]\n",
    "\n",
    "    for i_seq, sequence in enumerate(sequences):\n",
    "        all_unique = True\n",
    "        for pair in permutation:\n",
    "            if sequence[pair[0]] == sequence[pair[1]]:\n",
    "                all_unique = False\n",
    "                break\n",
    "        if all_unique:\n",
    "            break\n",
    "    return n_chars+i_seq"
   ]
  },
  {
   "attachments": {},
   "cell_type": "markdown",
   "metadata": {},
   "source": [
    "# part one"
   ]
  },
  {
   "cell_type": "code",
   "execution_count": 3,
   "metadata": {},
   "outputs": [
    {
     "data": {
      "text/plain": [
       "[1034]"
      ]
     },
     "execution_count": 3,
     "metadata": {},
     "output_type": "execute_result"
    }
   ],
   "source": [
    "n_chars = 4\n",
    "[marker_occurance(n_chars, char_array) for char_array in char_arrays]"
   ]
  },
  {
   "cell_type": "markdown",
   "metadata": {},
   "source": [
    "## Part Two"
   ]
  },
  {
   "cell_type": "code",
   "execution_count": 4,
   "metadata": {},
   "outputs": [
    {
     "data": {
      "text/plain": [
       "[2472]"
      ]
     },
     "execution_count": 4,
     "metadata": {},
     "output_type": "execute_result"
    }
   ],
   "source": [
    "n_chars = 14\n",
    "[marker_occurance(n_chars, char_array) for char_array in char_arrays]"
   ]
  }
 ],
 "metadata": {
  "kernelspec": {
   "display_name": "Python 3",
   "language": "python",
   "name": "python3"
  },
  "language_info": {
   "codemirror_mode": {
    "name": "ipython",
    "version": 3
   },
   "file_extension": ".py",
   "mimetype": "text/x-python",
   "name": "python",
   "nbconvert_exporter": "python",
   "pygments_lexer": "ipython3",
   "version": "3.9.6"
  },
  "orig_nbformat": 4,
  "vscode": {
   "interpreter": {
    "hash": "23b37b2c5ef3af92e6c5a1f41260f4d7d87b94b19a6a0241a9df183c040122f9"
   }
  }
 },
 "nbformat": 4,
 "nbformat_minor": 2
}
