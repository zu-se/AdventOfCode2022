{
 "cells": [
  {
   "attachments": {},
   "cell_type": "markdown",
   "metadata": {},
   "source": [
    "# import and format"
   ]
  },
  {
   "cell_type": "code",
   "execution_count": 1,
   "metadata": {},
   "outputs": [],
   "source": [
    "import re\n",
    "\n",
    "input = 'input_example.txt'\n",
    "input = 'input.txt'\n",
    "\n",
    "lines = open(input).readlines()\n",
    "lines = [re.sub('\\n', '', line) for line in lines]"
   ]
  },
  {
   "attachments": {},
   "cell_type": "markdown",
   "metadata": {},
   "source": [
    "# translate input to directory tree"
   ]
  },
  {
   "cell_type": "code",
   "execution_count": 2,
   "metadata": {},
   "outputs": [],
   "source": [
    "def goto_dir(path, tree):\n",
    "    working_dir = tree\n",
    "    for i_dir, dir in enumerate(path):\n",
    "        working_dir = working_dir[dir]\n",
    "    return working_dir"
   ]
  },
  {
   "cell_type": "code",
   "execution_count": 3,
   "metadata": {},
   "outputs": [],
   "source": [
    "def get_size_of_dir(dir):\n",
    "    size = 0\n",
    "    sizes = []\n",
    "    for k, v in dir.items():\n",
    "        if isinstance(v, dict):\n",
    "            this_size, this_sizes = get_size_of_dir(v)\n",
    "            size += this_size\n",
    "            sizes.append(this_size)\n",
    "            sizes.extend(this_sizes)\n",
    "        else:\n",
    "            size += v\n",
    "    return size, sizes"
   ]
  },
  {
   "cell_type": "code",
   "execution_count": 4,
   "metadata": {},
   "outputs": [],
   "source": [
    "dir_tree = {}\n",
    "path = []\n",
    "for line in lines:\n",
    "    # change and make directories\n",
    "    dest_dir = re.split('\\$ cd ', line)\n",
    "    if len(dest_dir) > 1:\n",
    "        dest_dir = dest_dir[-1]\n",
    "        if dest_dir == '..':\n",
    "            path = path[0:-1]\n",
    "        else:\n",
    "            working_dir = goto_dir(path, dir_tree)\n",
    "            working_dir.setdefault(dest_dir, {})\n",
    "            path.append(dest_dir)\n",
    "        continue\n",
    "\n",
    "    # add a file to tree\n",
    "    if re.match('\\d{1,}.*', line) != None:\n",
    "        size, file_name = re.split(' ', line)\n",
    "        working_dir = goto_dir(path, dir_tree)\n",
    "        working_dir.setdefault(file_name, int(size))"
   ]
  },
  {
   "cell_type": "code",
   "execution_count": 5,
   "metadata": {},
   "outputs": [],
   "source": [
    "#dir_tree"
   ]
  },
  {
   "attachments": {},
   "cell_type": "markdown",
   "metadata": {},
   "source": [
    "# part one"
   ]
  },
  {
   "cell_type": "code",
   "execution_count": 6,
   "metadata": {},
   "outputs": [
    {
     "name": "stdout",
     "output_type": "stream",
     "text": [
      "1334506\n"
     ]
    }
   ],
   "source": [
    "total_size = sum([size for size in (get_size_of_dir(dir_tree)[1]) if size < 100_000])\n",
    "print(total_size)"
   ]
  },
  {
   "attachments": {},
   "cell_type": "markdown",
   "metadata": {},
   "source": [
    "# part two"
   ]
  },
  {
   "cell_type": "code",
   "execution_count": 7,
   "metadata": {},
   "outputs": [
    {
     "name": "stdout",
     "output_type": "stream",
     "text": [
      "7421137\n"
     ]
    }
   ],
   "source": [
    "total_space = 70000000\n",
    "needed_space = 30000000\n",
    "sizes = get_size_of_dir(dir_tree)[1]\n",
    "used_space = sizes[0]\n",
    "free_space = total_space - used_space\n",
    "to_be_deleted = needed_space - free_space\n",
    "differences = [size - to_be_deleted for size in sizes]\n",
    "minimum = sizes[0]\n",
    "for difference in differences:\n",
    "    if difference < 0:\n",
    "        continue\n",
    "    if difference < minimum:\n",
    "        minimum = difference\n",
    "print(sizes[differences.index(minimum)])"
   ]
  }
 ],
 "metadata": {
  "kernelspec": {
   "display_name": "Python 3",
   "language": "python",
   "name": "python3"
  },
  "language_info": {
   "codemirror_mode": {
    "name": "ipython",
    "version": 3
   },
   "file_extension": ".py",
   "mimetype": "text/x-python",
   "name": "python",
   "nbconvert_exporter": "python",
   "pygments_lexer": "ipython3",
   "version": "3.9.6"
  },
  "orig_nbformat": 4,
  "vscode": {
   "interpreter": {
    "hash": "23b37b2c5ef3af92e6c5a1f41260f4d7d87b94b19a6a0241a9df183c040122f9"
   }
  }
 },
 "nbformat": 4,
 "nbformat_minor": 2
}
