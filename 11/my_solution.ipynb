{
 "cells": [
  {
   "attachments": {},
   "cell_type": "markdown",
   "metadata": {},
   "source": [
    "# import and format"
   ]
  },
  {
   "cell_type": "code",
   "execution_count": 1,
   "metadata": {},
   "outputs": [],
   "source": [
    "import re\n",
    "from math import prod\n",
    "from copy import deepcopy\n",
    "\n",
    "input = 'input_example.txt'\n",
    "input = 'input.txt'\n",
    "\n",
    "lines = open(input).readlines()"
   ]
  },
  {
   "cell_type": "code",
   "execution_count": 2,
   "metadata": {},
   "outputs": [],
   "source": [
    "class Monkey:\n",
    "    id = 0\n",
    "\n",
    "    n_rounds = 0\n",
    "    items = []\n",
    "    operation = 0\n",
    "    divisor = 0\n",
    "    test = 0\n",
    "    true_pointer = 0\n",
    "    false_pointer = 0\n",
    "\n",
    "    def __init__(self):\n",
    "        Monkey.id += 1\n",
    "        self.id = Monkey.id\n",
    "\n",
    "    def __str__(self):\n",
    "        string = ''\n",
    "        string += 'monkey ' + str(self.id) + ':'\n",
    "        string += '\\n\\titems: ' + str(self.items)\n",
    "        string += '\\n\\toperation: ' + str(self.operation)\n",
    "        string += '\\n\\ttest: ' + str(self.test)\n",
    "        string += '\\n\\ttrue_pointer: ' + str(self.true_pointer)\n",
    "        string += '\\n\\tfalse_pointer: ' + str(self.false_pointer)\n",
    "        string += '\\n\\tn_rounds: ' + str(self.n_rounds)\n",
    "        return string\n",
    "    \n",
    "    def throw(self, test_value):\n",
    "        if self.test(test_value):\n",
    "            return self.true_pointer\n",
    "        else:\n",
    "            return self.false_pointer"
   ]
  },
  {
   "cell_type": "code",
   "execution_count": 3,
   "metadata": {},
   "outputs": [],
   "source": [
    "def print_list(_list):\n",
    "    for element in _list:\n",
    "        print(element)\n",
    "        print('')"
   ]
  },
  {
   "cell_type": "code",
   "execution_count": 4,
   "metadata": {},
   "outputs": [],
   "source": [
    "# init monkey list from input\n",
    "monkeys = []\n",
    "for line in lines:\n",
    "    if re.match('Monkey \\d{1,}:\\n', line):\n",
    "        monkeys.append(Monkey())\n",
    "        continue\n",
    "    if re.match('.*Starting items:.*', line):\n",
    "        monkeys[-1].items = [int(string) for string in re.findall('\\d{1,}', line)]\n",
    "        continue\n",
    "    if re.match('.*Operation:.*', line):\n",
    "        monkeys[-1].operation = lambda old, this_line=line: eval(re.split('Operation: new = ', this_line)[-1])\n",
    "        continue\n",
    "    if re.match('.*Test:.*', line):\n",
    "        divisor = int(re.findall('\\d{1,}', line)[-1])\n",
    "        monkeys[-1].test = lambda x, this_divisor=divisor: x % this_divisor == 0\n",
    "        monkeys[-1].divisor = divisor\n",
    "        continue\n",
    "    if re.match('.*If true:.*', line):\n",
    "        monkeys[-1].true_pointer = int(re.findall('\\d{1,}', line)[-1])\n",
    "        continue\n",
    "    if re.match('.*If false:.*', line):\n",
    "        monkeys[-1].false_pointer = int(re.findall('\\d{1,}', line)[-1])"
   ]
  },
  {
   "cell_type": "code",
   "execution_count": 5,
   "metadata": {},
   "outputs": [],
   "source": [
    "#print_list(monkeys)"
   ]
  },
  {
   "attachments": {},
   "cell_type": "markdown",
   "metadata": {},
   "source": [
    "# solution"
   ]
  },
  {
   "cell_type": "code",
   "execution_count": 6,
   "metadata": {},
   "outputs": [],
   "source": [
    "def run_monkey_game(monkeys, n_rounds_to_play, part_one=True):\n",
    "    # get the least common multiple (lcm) of all test divisors\n",
    "    # needed for part two\n",
    "    if not part_one:\n",
    "        lcm = prod([monkey.divisor for monkey in monkeys])\n",
    "    \n",
    "    # run monkey game\n",
    "    for i_iteration in range(n_rounds_to_play):\n",
    "        for i_monkey, monkey in enumerate(monkeys):\n",
    "            while len(monkey.items) > 0:\n",
    "                worry_level = monkey.items[0]\n",
    "                worry_level = monkey.operation(worry_level)\n",
    "                if part_one:\n",
    "                    worry_level = int(worry_level/3)\n",
    "                else:\n",
    "                    worry_level %= lcm\n",
    "                monkeys[monkey.throw(worry_level)].items.append(worry_level)\n",
    "                monkey.items.pop(0)\n",
    "                monkey.n_rounds += 1\n",
    "\n",
    "    # calculate business level\n",
    "    n_rounds = sorted([monkey.n_rounds for monkey in monkeys])\n",
    "    business_level = prod(n_rounds[-2:])\n",
    "    return business_level"
   ]
  },
  {
   "attachments": {},
   "cell_type": "markdown",
   "metadata": {},
   "source": [
    "## part one"
   ]
  },
  {
   "cell_type": "code",
   "execution_count": 7,
   "metadata": {},
   "outputs": [
    {
     "data": {
      "text/plain": [
       "67830"
      ]
     },
     "execution_count": 7,
     "metadata": {},
     "output_type": "execute_result"
    }
   ],
   "source": [
    "part_one_monkeys = deepcopy(monkeys)\n",
    "n_rounds_to_play = 20\n",
    "run_monkey_game(part_one_monkeys, n_rounds_to_play, part_one=True)"
   ]
  },
  {
   "cell_type": "code",
   "execution_count": 8,
   "metadata": {},
   "outputs": [],
   "source": [
    "#print_list(part_one_monkeys)"
   ]
  },
  {
   "attachments": {},
   "cell_type": "markdown",
   "metadata": {},
   "source": [
    "## part two"
   ]
  },
  {
   "cell_type": "code",
   "execution_count": 9,
   "metadata": {},
   "outputs": [
    {
     "data": {
      "text/plain": [
       "15305381442"
      ]
     },
     "execution_count": 9,
     "metadata": {},
     "output_type": "execute_result"
    }
   ],
   "source": [
    "part_two_monkeys = deepcopy(monkeys)\n",
    "n_rounds_to_play = 10000\n",
    "run_monkey_game(part_two_monkeys, n_rounds_to_play, part_one=False)"
   ]
  },
  {
   "cell_type": "code",
   "execution_count": 10,
   "metadata": {},
   "outputs": [],
   "source": [
    "#print_list(part_two_monkeys)"
   ]
  }
 ],
 "metadata": {
  "kernelspec": {
   "display_name": "Python 3",
   "language": "python",
   "name": "python3"
  },
  "language_info": {
   "codemirror_mode": {
    "name": "ipython",
    "version": 3
   },
   "file_extension": ".py",
   "mimetype": "text/x-python",
   "name": "python",
   "nbconvert_exporter": "python",
   "pygments_lexer": "ipython3",
   "version": "3.9.6"
  },
  "orig_nbformat": 4,
  "vscode": {
   "interpreter": {
    "hash": "23b37b2c5ef3af92e6c5a1f41260f4d7d87b94b19a6a0241a9df183c040122f9"
   }
  }
 },
 "nbformat": 4,
 "nbformat_minor": 2
}
