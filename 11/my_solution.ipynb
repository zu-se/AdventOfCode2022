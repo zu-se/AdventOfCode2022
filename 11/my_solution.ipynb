{
 "cells": [
  {
   "cell_type": "code",
   "execution_count": 41,
   "metadata": {},
   "outputs": [],
   "source": [
    "import re\n",
    "with open('input.txt') as file:\n",
    "    lines = file.readlines()"
   ]
  },
  {
   "cell_type": "code",
   "execution_count": 42,
   "metadata": {},
   "outputs": [],
   "source": [
    "class Monkey:\n",
    "    n_rounds = 0\n",
    "    items = []\n",
    "    operation = 0\n",
    "    divisor = 0\n",
    "    test = 0\n",
    "    true_pointer = 0\n",
    "    false_pointer = 0\n",
    "\n",
    "    def __str__(self):\n",
    "        string = ''\n",
    "        string += str('items: ' + str(self.items))\n",
    "        string += str('\\noperation: ' + str(self.operation))\n",
    "        string += str('\\ntest: ' + str(self.test))\n",
    "        string += str('\\ntrue_pointer: ' + str(self.true_pointer))\n",
    "        string += str('\\nfalse_pointer: ' + str(self.false_pointer))\n",
    "        string += str('\\nn_rounds: ' + str(self.n_rounds))\n",
    "        return string\n",
    "    \n",
    "    def throw(self, test_value):\n",
    "        if self.test(test_value):\n",
    "            return self.true_pointer\n",
    "        else:\n",
    "            return self.false_pointer"
   ]
  },
  {
   "cell_type": "code",
   "execution_count": 43,
   "metadata": {},
   "outputs": [],
   "source": [
    "# init monkey list from input\n",
    "monkeys = []\n",
    "for line in lines:\n",
    "    if re.match('Monkey \\d{1,}:\\n', line):\n",
    "        monkeys.append(Monkey())\n",
    "        continue\n",
    "    if re.match('.*Starting items:.*', line):\n",
    "        monkeys[-1].items = [int(string) for string in re.findall('\\d{1,}', line)]\n",
    "        continue\n",
    "    if re.match('.*Operation:.*', line):\n",
    "        monkeys[-1].operation = lambda old, this_line=line: eval(re.split('Operation: new = ', this_line)[-1])\n",
    "        continue\n",
    "    if re.match('.*Test:.*', line):\n",
    "        divisor = int(re.findall('\\d{1,}', line)[-1])\n",
    "        monkeys[-1].test = lambda x, this_divisor=divisor: x % this_divisor == 0\n",
    "        monkeys[-1].divisor = divisor\n",
    "        continue\n",
    "    if re.match('.*If true:.*', line):\n",
    "        monkeys[-1].true_pointer = int(re.findall('\\d{1,}', line)[-1])\n",
    "        continue\n",
    "    if re.match('.*If false:.*', line):\n",
    "        monkeys[-1].false_pointer = int(re.findall('\\d{1,}', line)[-1])"
   ]
  },
  {
   "cell_type": "code",
   "execution_count": 44,
   "metadata": {},
   "outputs": [],
   "source": [
    "rounds_to_play = 10000\n",
    "advent_of_code_step = 2\n",
    "\n",
    "# get the least common multiple (lcm) of all test divisors\n",
    "if advent_of_code_step == 2:\n",
    "    lcm = 1\n",
    "    for monkey in monkeys:\n",
    "        lcm *= monkey.divisor \n",
    "\n",
    "# run monkey game\n",
    "for i_iteration in range(rounds_to_play):\n",
    "    for i_monkey, monkey in enumerate(monkeys):\n",
    "        while monkey.items != []:\n",
    "            worry_level = monkey.items[0]\n",
    "            worry_level = monkey.operation(worry_level)\n",
    "            if advent_of_code_step == 1:\n",
    "                worry_level = int(worry_level / 3)\n",
    "            if advent_of_code_step == 2:\n",
    "                worry_level %= lcm\n",
    "            monkeys[monkey.throw(worry_level)].items.append(worry_level)\n",
    "            monkey.items.pop(0)\n",
    "            monkey.n_rounds += 1"
   ]
  },
  {
   "cell_type": "code",
   "execution_count": 45,
   "metadata": {},
   "outputs": [
    {
     "name": "stdout",
     "output_type": "stream",
     "text": [
      "monkey 0:\n",
      "items: [3255778, 4300003, 4578463, 3139753, 262333, 507949, 507949, 2575693, 6932640, 5616687, 4874756, 8773196]\n",
      "operation: <function <lambda> at 0x000001FA0C51E040>\n",
      "test: <function <lambda> at 0x000001FA0C5C0670>\n",
      "true_pointer: 3\n",
      "false_pointer: 7\n",
      "n_rounds: 120951\n",
      "\n",
      "monkey 1:\n",
      "items: [5822359, 518053, 518053]\n",
      "operation: <function <lambda> at 0x000001FA0C5C0550>\n",
      "test: <function <lambda> at 0x000001FA0C5C0AF0>\n",
      "true_pointer: 6\n",
      "false_pointer: 4\n",
      "n_rounds: 16092\n",
      "\n",
      "monkey 2:\n",
      "items: [3575287]\n",
      "operation: <function <lambda> at 0x000001FA0C5C0940>\n",
      "test: <function <lambda> at 0x000001FA0C5C0820>\n",
      "true_pointer: 0\n",
      "false_pointer: 7\n",
      "n_rounds: 6543\n",
      "\n",
      "monkey 3:\n",
      "items: [6036082]\n",
      "operation: <function <lambda> at 0x000001FA0C5C0D30>\n",
      "test: <function <lambda> at 0x000001FA0C5C0B80>\n",
      "true_pointer: 5\n",
      "false_pointer: 1\n",
      "n_rounds: 28995\n",
      "\n",
      "monkey 4:\n",
      "items: [8008871, 7776821, 2068391, 8844251, 1922021, 1922021, 8563709, 30041]\n",
      "operation: <function <lambda> at 0x000001FA0C5C0EE0>\n",
      "test: <function <lambda> at 0x000001FA0D1DBA60>\n",
      "true_pointer: 2\n",
      "false_pointer: 6\n",
      "n_rounds: 126542\n",
      "\n",
      "monkey 5:\n",
      "items: [165574, 3599914, 4249654, 6662974, 6201016, 6201016, 1922014, 1040224, 8865664, 3137956, 736655]\n",
      "operation: <function <lambda> at 0x000001FA0D1DBAF0>\n",
      "test: <function <lambda> at 0x000001FA0D1DBB80>\n",
      "true_pointer: 1\n",
      "false_pointer: 4\n",
      "n_rounds: 119627\n",
      "\n",
      "monkey 6:\n",
      "items: []\n",
      "operation: <function <lambda> at 0x000001FA0D1DB820>\n",
      "test: <function <lambda> at 0x000001FA0D1DB790>\n",
      "true_pointer: 2\n",
      "false_pointer: 0\n",
      "n_rounds: 120399\n",
      "\n",
      "monkey 7:\n",
      "items: []\n",
      "operation: <function <lambda> at 0x000001FA0D1DB700>\n",
      "test: <function <lambda> at 0x000001FA0D1DB670>\n",
      "true_pointer: 3\n",
      "false_pointer: 5\n",
      "n_rounds: 105570\n",
      "\n"
     ]
    }
   ],
   "source": [
    "for i_monkey, monkey in enumerate(monkeys):\n",
    "    print('monkey ' + str(i_monkey) + ':')\n",
    "    print(monkey)\n",
    "    print('')"
   ]
  },
  {
   "cell_type": "code",
   "execution_count": 46,
   "metadata": {},
   "outputs": [
    {
     "name": "stdout",
     "output_type": "stream",
     "text": [
      "[120951, 16092, 6543, 28995, 126542, 119627, 120399, 105570]\n",
      "[120951, 126542]\n",
      "15305381442\n"
     ]
    }
   ],
   "source": [
    "# calculate business level\n",
    "n_rounds = [monkey.n_rounds for monkey in monkeys]\n",
    "print(n_rounds)\n",
    "n_rounds.sort()\n",
    "print(n_rounds[-2:])\n",
    "business_level = 1\n",
    "for value in n_rounds[-2:]:\n",
    "    business_level *= value\n",
    "print(business_level)"
   ]
  }
 ],
 "metadata": {
  "kernelspec": {
   "display_name": "Python 3",
   "language": "python",
   "name": "python3"
  },
  "language_info": {
   "codemirror_mode": {
    "name": "ipython",
    "version": 3
   },
   "file_extension": ".py",
   "mimetype": "text/x-python",
   "name": "python",
   "nbconvert_exporter": "python",
   "pygments_lexer": "ipython3",
   "version": "3.9.6"
  },
  "orig_nbformat": 4,
  "vscode": {
   "interpreter": {
    "hash": "23b37b2c5ef3af92e6c5a1f41260f4d7d87b94b19a6a0241a9df183c040122f9"
   }
  }
 },
 "nbformat": 4,
 "nbformat_minor": 2
}
