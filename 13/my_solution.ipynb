{
 "cells": [
  {
   "cell_type": "code",
   "execution_count": null,
   "metadata": {},
   "outputs": [],
   "source": [
    "import re\n",
    "with open('input.txt') as file:\n",
    "    pairs = file.read().split('\\n\\n')\n",
    "pairs = [[eval(packet) for packet in re.split('\\n', pair)] for pair in pairs]"
   ]
  },
  {
   "cell_type": "code",
   "execution_count": null,
   "metadata": {},
   "outputs": [],
   "source": [
    "# returns true if packets are in right order\n",
    "def compare_packets(left, right, verbose=False):\n",
    "    if verbose:\n",
    "        print(str(left) + ' vs. ' + str(right))\n",
    "\n",
    "    # if both are integer, just compare or return None\n",
    "    if (type(left) == int) and (type(right) == int):\n",
    "        if left == right:\n",
    "            return None\n",
    "        return left < right\n",
    "\n",
    "    # if only one is a list, convert the other to a list\n",
    "    if type(left) != list:\n",
    "        left = [left]\n",
    "    if type(right) != list:\n",
    "        right = [right]\n",
    "\n",
    "    # if both are lists\n",
    "    while len(left) > 0 and len(right) > 0:\n",
    "        bool_value = compare_packets(left[0], right[0])\n",
    "        if bool_value != None:\n",
    "            return bool_value\n",
    "        left = left[1:]\n",
    "        right = right[1:]\n",
    "\n",
    "    # check that none of the lists are empty\n",
    "    if len(left) == 0 and len(right) == 0:\n",
    "        return None\n",
    "    if len(right) == 0:\n",
    "        return False\n",
    "    if len(left) == 0:\n",
    "        return True\n",
    "    "
   ]
  },
  {
   "attachments": {},
   "cell_type": "markdown",
   "metadata": {},
   "source": [
    "# Part One"
   ]
  },
  {
   "cell_type": "code",
   "execution_count": null,
   "metadata": {},
   "outputs": [],
   "source": [
    "pairs_in_right_order = []\n",
    "for i_pair, pair in enumerate(pairs):\n",
    "    test = compare_packets(pair[0], pair[1])\n",
    "    if test:\n",
    "        pairs_in_right_order.append(i_pair+1)\n",
    "    #print(test)\n",
    "    #print('')\n",
    "print(sum(pairs_in_right_order))"
   ]
  },
  {
   "attachments": {},
   "cell_type": "markdown",
   "metadata": {},
   "source": [
    "# Part Two"
   ]
  },
  {
   "cell_type": "code",
   "execution_count": null,
   "metadata": {},
   "outputs": [],
   "source": [
    "import functools\n",
    "\n",
    "def compare(left, right):\n",
    "    if compare_packets(left, right):\n",
    "        return -1\n",
    "    return 1\n",
    "\n",
    "divider_packets = [[[2]], [[6]]]\n",
    "unsorted = [packet for pair in pairs for packet in pair] + divider_packets\n",
    "sorted = sorted(unsorted, key=functools.cmp_to_key(compare))"
   ]
  },
  {
   "cell_type": "code",
   "execution_count": null,
   "metadata": {},
   "outputs": [],
   "source": [
    "indices = []\n",
    "for i_packet, packet in enumerate(sorted):\n",
    "    if packet in divider_packets:\n",
    "        indices.append(i_packet+1)\n",
    "print(indices)\n",
    "print(indices[0]*indices[1])"
   ]
  }
 ],
 "metadata": {
  "kernelspec": {
   "display_name": "Python 3",
   "language": "python",
   "name": "python3"
  },
  "language_info": {
   "codemirror_mode": {
    "name": "ipython",
    "version": 3
   },
   "file_extension": ".py",
   "mimetype": "text/x-python",
   "name": "python",
   "nbconvert_exporter": "python",
   "pygments_lexer": "ipython3",
   "version": "3.9.6"
  },
  "orig_nbformat": 4,
  "vscode": {
   "interpreter": {
    "hash": "23b37b2c5ef3af92e6c5a1f41260f4d7d87b94b19a6a0241a9df183c040122f9"
   }
  }
 },
 "nbformat": 4,
 "nbformat_minor": 2
}
