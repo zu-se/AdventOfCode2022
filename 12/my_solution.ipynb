{
 "cells": [
  {
   "cell_type": "code",
   "execution_count": null,
   "metadata": {},
   "outputs": [],
   "source": [
    "import numpy as np\n",
    "with open('input.txt') as file:\n",
    "    lines = file.readlines()"
   ]
  },
  {
   "cell_type": "code",
   "execution_count": null,
   "metadata": {},
   "outputs": [],
   "source": [
    "# generate height map with integers\n",
    "S_position = 0\n",
    "E_position = 0\n",
    "height_map = np.zeros((len(lines), len(lines[0])-1)).astype('int')\n",
    "for i_line, line in enumerate(lines):\n",
    "    for i_char, char in enumerate(line):\n",
    "        if char == '\\n':\n",
    "            continue\n",
    "        if char == 'S':\n",
    "            S_position = np.array([i_line, i_char])\n",
    "            char = 'a'\n",
    "        if char == 'E':\n",
    "            E_position = np.array([i_line, i_char])\n",
    "            char = 'z'\n",
    "        height_map[i_line, i_char] = ord(char) - ord('a')\n",
    "print(height_map)\n",
    "print(S_position)\n",
    "print(E_position)\n",
    "print(height_map.shape)"
   ]
  },
  {
   "attachments": {},
   "cell_type": "markdown",
   "metadata": {},
   "source": [
    "# Watershed-like approach"
   ]
  },
  {
   "cell_type": "code",
   "execution_count": null,
   "metadata": {},
   "outputs": [],
   "source": [
    "# find all positions with elevation 0\n",
    "# important for part 2 of this day\n",
    "part = 2\n",
    "if part == 1:\n",
    "    start_positions = np.transpose([S_position]) #[np.array(v) for v in S_position]\n",
    "if part == 2:\n",
    "    start_positions = np.where(height_map == 0)"
   ]
  },
  {
   "cell_type": "code",
   "execution_count": null,
   "metadata": {},
   "outputs": [],
   "source": [
    "def get_4_neighboorhood_from_tuple_coords(tuple_coords):\n",
    "    position_offsets = np.array([[i, j] for i in range(-1,2) for j in range(-1,2) if abs(i) != abs(j)])\n",
    "    transposed = np.transpose(tuple_coords)\n",
    "    n_coords = len(transposed)\n",
    "    coords_array = np.repeat(transposed, 4, axis=0)\n",
    "    offset_array = np.tile(position_offsets, (n_coords,1))\n",
    "    new_positions = coords_array + offset_array\n",
    "    reshaped = np.reshape(new_positions, [n_coords, 4, 2])\n",
    "    return reshaped"
   ]
  },
  {
   "cell_type": "code",
   "execution_count": null,
   "metadata": {},
   "outputs": [],
   "source": [
    "# watershed approach\n",
    "watershed = np.zeros_like(height_map)\n",
    "watershed[tuple(start_positions)] = 1\n",
    "top_reached = False\n",
    "last_positions = start_positions\n",
    "iterations = 0\n",
    "while not top_reached:\n",
    "    next_positions = get_4_neighboorhood_from_tuple_coords(last_positions)\n",
    "    valid_positions = np.array([[all(height_map.shape > next_position) and all(next_position >= 0) # next positions exist in height map?\n",
    "                    and height_map[tuple(next_position)] <= height_map[tuple(last_position)]+1 # next positions are not too high\n",
    "                    and not watershed[tuple(next_position)] # next positions were not visited before\n",
    "                    for next_position in four_neighborhood]\n",
    "                    for last_position, four_neighborhood in zip(np.transpose(last_positions), next_positions)])\n",
    "    last_positions = np.unique(np.transpose(next_positions[valid_positions]), axis=1)\n",
    "    watershed[tuple(last_positions)] = iterations + 2\n",
    "    iterations += 1\n",
    "    top_reached = any([all(position == E_position) for position in np.transpose(last_positions)])"
   ]
  },
  {
   "cell_type": "code",
   "execution_count": null,
   "metadata": {},
   "outputs": [],
   "source": [
    "print(watershed)\n",
    "print('shortest trail: ' + str(iterations))"
   ]
  }
 ],
 "metadata": {
  "kernelspec": {
   "display_name": "Python 3",
   "language": "python",
   "name": "python3"
  },
  "language_info": {
   "codemirror_mode": {
    "name": "ipython",
    "version": 3
   },
   "file_extension": ".py",
   "mimetype": "text/x-python",
   "name": "python",
   "nbconvert_exporter": "python",
   "pygments_lexer": "ipython3",
   "version": "3.9.6 (tags/v3.9.6:db3ff76, Jun 28 2021, 15:26:21) [MSC v.1929 64 bit (AMD64)]"
  },
  "orig_nbformat": 4,
  "vscode": {
   "interpreter": {
    "hash": "23b37b2c5ef3af92e6c5a1f41260f4d7d87b94b19a6a0241a9df183c040122f9"
   }
  }
 },
 "nbformat": 4,
 "nbformat_minor": 2
}
