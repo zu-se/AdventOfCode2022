{
 "cells": [
  {
   "cell_type": "code",
   "execution_count": 1,
   "metadata": {},
   "outputs": [],
   "source": [
    "import re\n",
    "from math import prod\n",
    "\n",
    "def char_to_priority(char):\n",
    "    ascii = ord(char)\n",
    "    if char.islower():\n",
    "        return ascii - 96 # ascii value for 'a' (97) maps to priority 1\n",
    "    else:\n",
    "        return ascii - 38 # ascii value for 'A' (65) maps to priority 27"
   ]
  },
  {
   "attachments": {},
   "cell_type": "markdown",
   "metadata": {},
   "source": [
    "# import"
   ]
  },
  {
   "cell_type": "code",
   "execution_count": 2,
   "metadata": {},
   "outputs": [],
   "source": [
    "input = 'input_example.txt'\n",
    "input = 'input.txt'\n",
    "\n",
    "lines = open(input).readlines()\n",
    "lines = [re.sub('\\n', '', line) for line in lines]"
   ]
  },
  {
   "attachments": {},
   "cell_type": "markdown",
   "metadata": {},
   "source": [
    "# part one"
   ]
  },
  {
   "cell_type": "code",
   "execution_count": 3,
   "metadata": {},
   "outputs": [
    {
     "name": "stdout",
     "output_type": "stream",
     "text": [
      "7848\n"
     ]
    }
   ],
   "source": [
    "n_letters = 52 # 52 letters in the alphabet (upper and lower case)\n",
    "wrong_packed_item_priorities = []\n",
    "for line in lines:\n",
    "    array = [0] * n_letters\n",
    "    items_per_compartment = int(len(line)/2)\n",
    "    first_compartment = list(line[0:items_per_compartment])\n",
    "    second_compartment = list(line[items_per_compartment:2*items_per_compartment])\n",
    "    first_compartment_priority = [char_to_priority(char) for char in first_compartment]\n",
    "    second_compartment_priority = [char_to_priority(char) for char in second_compartment]\n",
    "    for value in first_compartment_priority:\n",
    "        array[value-1] += 1\n",
    "    for value in second_compartment_priority:\n",
    "        if array[value-1] > 0:\n",
    "            wrong_packed_item_priorities.append(value)\n",
    "            break\n",
    "#print(wrong_packed_item_priorities)\n",
    "print(sum(wrong_packed_item_priorities))\n"
   ]
  },
  {
   "attachments": {},
   "cell_type": "markdown",
   "metadata": {},
   "source": [
    "# part two"
   ]
  },
  {
   "cell_type": "code",
   "execution_count": 4,
   "metadata": {},
   "outputs": [
    {
     "name": "stdout",
     "output_type": "stream",
     "text": [
      "2616\n"
     ]
    }
   ],
   "source": [
    "n_letters = 52 # 52 letters in the alphabet (upper and lower case)\n",
    "n_elfs_per_badge = 3\n",
    "elf_groups = [lines[i:i+n_elfs_per_badge] for i in range(0,len(lines),n_elfs_per_badge)]\n",
    "badge_priorities = []\n",
    "\n",
    "for group in elf_groups:\n",
    "    arrays = [[0] * n_letters for i in range(n_elfs_per_badge)] \n",
    "    for i_elf, elf in enumerate(group):\n",
    "        for item in elf:\n",
    "            arrays[i_elf][char_to_priority(item)-1] += 1\n",
    "    # find the one common item by multiplication\n",
    "    mult_arr = [prod([array[i_letter] for array in arrays]) for i_letter in range(n_letters)]\n",
    "    for i_letter in range(n_letters):\n",
    "        if mult_arr[i_letter] > 0:\n",
    "            badge_priorities.append(i_letter +1)\n",
    "            break\n",
    "#print(badge_priorities)\n",
    "print(sum(badge_priorities))"
   ]
  }
 ],
 "metadata": {
  "kernelspec": {
   "display_name": "Python 3",
   "language": "python",
   "name": "python3"
  },
  "language_info": {
   "codemirror_mode": {
    "name": "ipython",
    "version": 3
   },
   "file_extension": ".py",
   "mimetype": "text/x-python",
   "name": "python",
   "nbconvert_exporter": "python",
   "pygments_lexer": "ipython3",
   "version": "3.9.6"
  },
  "orig_nbformat": 4,
  "vscode": {
   "interpreter": {
    "hash": "23b37b2c5ef3af92e6c5a1f41260f4d7d87b94b19a6a0241a9df183c040122f9"
   }
  }
 },
 "nbformat": 4,
 "nbformat_minor": 2
}
