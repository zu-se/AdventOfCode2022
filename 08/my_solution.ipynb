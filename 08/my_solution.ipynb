{
 "cells": [
  {
   "attachments": {},
   "cell_type": "markdown",
   "metadata": {},
   "source": [
    "# import and format"
   ]
  },
  {
   "cell_type": "code",
   "execution_count": 1,
   "metadata": {},
   "outputs": [],
   "source": [
    "import re\n",
    "from math import prod\n",
    "from copy import deepcopy\n",
    "\n",
    "input = 'input_example.txt'\n",
    "input = 'input.txt'\n",
    "\n",
    "lines = open(input).readlines()\n",
    "array = [[int(value) for value in re.findall('\\d{1}', line)] for line in lines]\n",
    "n_rows = len(array)\n",
    "n_cols = len(array[0])"
   ]
  },
  {
   "cell_type": "code",
   "execution_count": 2,
   "metadata": {},
   "outputs": [],
   "source": [
    "# return a list containing one list of trees per direction (top, left, right, bottom)\n",
    "def get_trees_to_edges(array, i_row, i_col):\n",
    "    # to top\n",
    "    to_top = [row[i_col] for row in array[0:i_row]]\n",
    "    to_top.reverse()\n",
    "    # to left\n",
    "    to_left = array[i_row][0:i_col]\n",
    "    to_left.reverse()\n",
    "    # to right\n",
    "    to_right = array[i_row][i_col+1:]\n",
    "    # to bottom\n",
    "    to_bottom = [row[i_col] for row in array[i_row+1:]]\n",
    "    # combine\n",
    "    tree_list = [to_top, to_left, to_right, to_bottom]\n",
    "    return tree_list"
   ]
  },
  {
   "attachments": {},
   "cell_type": "markdown",
   "metadata": {},
   "source": [
    "# part one"
   ]
  },
  {
   "cell_type": "code",
   "execution_count": 3,
   "metadata": {},
   "outputs": [
    {
     "name": "stdout",
     "output_type": "stream",
     "text": [
      "1669\n"
     ]
    }
   ],
   "source": [
    "n_visible_trees = 0\n",
    "for i_row in range(n_rows):\n",
    "    for i_col in range(n_cols):\n",
    "        # if tree is on the edge just count it\n",
    "        if i_row == 0 or i_row == n_rows-1 or \\\n",
    "           i_col == 0 or i_col == n_cols-1:\n",
    "            n_visible_trees += 1\n",
    "            continue\n",
    "        height = array[i_row][i_col]\n",
    "        tree_list = get_trees_to_edges(array, i_row, i_col)\n",
    "        tree_list = [[((tree - height) < 0) for tree in direction] for direction in tree_list]\n",
    "        if any([all(direction) for direction in tree_list]):\n",
    "            n_visible_trees += 1\n",
    "print(n_visible_trees)"
   ]
  },
  {
   "attachments": {},
   "cell_type": "markdown",
   "metadata": {},
   "source": [
    "# part two"
   ]
  },
  {
   "cell_type": "code",
   "execution_count": 4,
   "metadata": {},
   "outputs": [
    {
     "data": {
      "text/plain": [
       "331344"
      ]
     },
     "execution_count": 4,
     "metadata": {},
     "output_type": "execute_result"
    }
   ],
   "source": [
    "scenic_score_array = deepcopy(array)\n",
    "for i_row in range(n_rows):\n",
    "    for i_col in range(n_cols):\n",
    "        height = array[i_row][i_col]\n",
    "        tree_list = get_trees_to_edges(array, i_row, i_col)\n",
    "        tree_list = [[((tree - height) < 0) for tree in direction] for direction in tree_list]\n",
    "        scenic_score_per_view = [0] * 4\n",
    "        for i_view, view in enumerate(tree_list):\n",
    "            for tree_is_shorter in view:\n",
    "                scenic_score_per_view[i_view] += 1\n",
    "                if not tree_is_shorter:\n",
    "                     break\n",
    "        scenic_score_array[i_row][i_col] = prod(scenic_score_per_view)\n",
    "max([max(tree_row) for tree_row in scenic_score_array])"
   ]
  }
 ],
 "metadata": {
  "kernelspec": {
   "display_name": "Python 3",
   "language": "python",
   "name": "python3"
  },
  "language_info": {
   "codemirror_mode": {
    "name": "ipython",
    "version": 3
   },
   "file_extension": ".py",
   "mimetype": "text/x-python",
   "name": "python",
   "nbconvert_exporter": "python",
   "pygments_lexer": "ipython3",
   "version": "3.9.6"
  },
  "orig_nbformat": 4,
  "vscode": {
   "interpreter": {
    "hash": "23b37b2c5ef3af92e6c5a1f41260f4d7d87b94b19a6a0241a9df183c040122f9"
   }
  }
 },
 "nbformat": 4,
 "nbformat_minor": 2
}
