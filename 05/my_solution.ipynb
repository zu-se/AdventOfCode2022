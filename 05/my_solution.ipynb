{
 "cells": [
  {
   "attachments": {},
   "cell_type": "markdown",
   "metadata": {},
   "source": [
    "# import and format"
   ]
  },
  {
   "cell_type": "code",
   "execution_count": 1,
   "metadata": {},
   "outputs": [],
   "source": [
    "import re\n",
    "from copy import deepcopy\n",
    "\n",
    "input = 'input_example.txt'\n",
    "input = 'input.txt'\n",
    "\n",
    "lines = open(input).readlines()"
   ]
  },
  {
   "cell_type": "code",
   "execution_count": 2,
   "metadata": {},
   "outputs": [],
   "source": [
    "# split input into stacks, stack_numbers and rearrangement plan\n",
    "stack = []\n",
    "stack_nrs = ''\n",
    "rearrangement = []\n",
    "\n",
    "for i_line, line in enumerate(lines):\n",
    "    if re.match('\\n', line) != None:\n",
    "        rearrangement = lines[i_line+1:]\n",
    "        break\n",
    "    if re.match('([ ]{1,}\\d){1,}', line) == None:\n",
    "        stack.append(line)\n",
    "    else:\n",
    "        stack_nrs = line"
   ]
  },
  {
   "cell_type": "code",
   "execution_count": 3,
   "metadata": {},
   "outputs": [],
   "source": [
    "# extract letters from stack and format into lists\n",
    "stack_nr_positions = []\n",
    "for i_char, char in enumerate(stack_nrs):\n",
    "    if re.match('\\d', char) != None:\n",
    "        stack_nr_positions.append(i_char)\n",
    "\n",
    "stack_lists = []\n",
    "for stack_pos in stack_nr_positions:\n",
    "    this_stack = []\n",
    "    for line in stack:\n",
    "        char = line[stack_pos]\n",
    "        if char != ' ':\n",
    "            this_stack.append(char)\n",
    "    stack_lists.append(this_stack)"
   ]
  },
  {
   "cell_type": "code",
   "execution_count": 4,
   "metadata": {},
   "outputs": [],
   "source": [
    "# get integers from rearrangement plan\n",
    "rearrangement_code = [[int(value) for value in re.findall('\\d{1,}', line)] for line in rearrangement]"
   ]
  },
  {
   "cell_type": "markdown",
   "metadata": {},
   "source": [
    "## Part One"
   ]
  },
  {
   "cell_type": "code",
   "execution_count": 5,
   "metadata": {},
   "outputs": [
    {
     "data": {
      "text/plain": [
       "'FCVRLMVQP'"
      ]
     },
     "execution_count": 5,
     "metadata": {},
     "output_type": "execute_result"
    }
   ],
   "source": [
    "stack_lists_part_one = deepcopy(stack_lists)\n",
    "for code in rearrangement_code:\n",
    "    amount, src, dest = code\n",
    "    src -= 1\n",
    "    dest -= 1\n",
    "    for i in range(amount):\n",
    "        stack_lists_part_one[dest].insert(0, stack_lists_part_one[src][0])\n",
    "        stack_lists_part_one[src].pop(0)\n",
    "    #print(stack_lists_part_one)\n",
    "''.join([stack[0] for stack in stack_lists_part_one])"
   ]
  },
  {
   "cell_type": "markdown",
   "metadata": {},
   "source": [
    "## Part Two"
   ]
  },
  {
   "cell_type": "code",
   "execution_count": 6,
   "metadata": {},
   "outputs": [
    {
     "data": {
      "text/plain": [
       "'RWLWGJGFD'"
      ]
     },
     "execution_count": 6,
     "metadata": {},
     "output_type": "execute_result"
    }
   ],
   "source": [
    "stack_lists_part_two = deepcopy(stack_lists)\n",
    "\n",
    "for i in range(len(stack_lists_part_two)):\n",
    "    stack_lists_part_two[i].reverse()\n",
    "\n",
    "for code in rearrangement_code:\n",
    "    amount, src, dest = code\n",
    "    src -= 1\n",
    "    dest -= 1\n",
    "    stack_lists_part_two[dest].extend(stack_lists_part_two[src][-amount:])\n",
    "    for i in range(amount):\n",
    "        stack_lists_part_two[src].pop(-1)\n",
    "    #print(stack_lists_part_two)\n",
    "''.join([stack[-1] for stack in stack_lists_part_two])"
   ]
  }
 ],
 "metadata": {
  "kernelspec": {
   "display_name": "Python 3",
   "language": "python",
   "name": "python3"
  },
  "language_info": {
   "codemirror_mode": {
    "name": "ipython",
    "version": 3
   },
   "file_extension": ".py",
   "mimetype": "text/x-python",
   "name": "python",
   "nbconvert_exporter": "python",
   "pygments_lexer": "ipython3",
   "version": "3.9.6"
  },
  "orig_nbformat": 4,
  "vscode": {
   "interpreter": {
    "hash": "23b37b2c5ef3af92e6c5a1f41260f4d7d87b94b19a6a0241a9df183c040122f9"
   }
  }
 },
 "nbformat": 4,
 "nbformat_minor": 2
}
