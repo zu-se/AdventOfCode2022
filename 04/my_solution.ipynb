{
 "cells": [
  {
   "attachments": {},
   "cell_type": "markdown",
   "metadata": {},
   "source": [
    "# import and format"
   ]
  },
  {
   "cell_type": "code",
   "execution_count": 1,
   "metadata": {},
   "outputs": [],
   "source": [
    "import re\n",
    "\n",
    "input = 'input_example.txt'\n",
    "input = 'input.txt'\n",
    "\n",
    "lines = open(input).readlines()\n",
    "lines = [re.sub('\\n', '', line) for line in lines]\n",
    "lines = [[int(value) for value in re.findall('\\d{1,}', line)] for line in lines]"
   ]
  },
  {
   "attachments": {},
   "cell_type": "markdown",
   "metadata": {},
   "source": [
    "# part one"
   ]
  },
  {
   "cell_type": "code",
   "execution_count": 2,
   "metadata": {},
   "outputs": [
    {
     "name": "stdout",
     "output_type": "stream",
     "text": [
      "pairs: 507\n"
     ]
    }
   ],
   "source": [
    "n_cover_up_pairs = 0\n",
    "for line in lines:\n",
    "    elf1_start, elf1_end, elf2_start, elf2_end = line\n",
    "    if elf1_start >= elf2_start and elf1_end <= elf2_end:\n",
    "        n_cover_up_pairs += 1\n",
    "        continue\n",
    "    if elf2_start >= elf1_start and elf2_end <= elf1_end:\n",
    "        n_cover_up_pairs += 1\n",
    "        continue\n",
    "print('pairs: ' + str(n_cover_up_pairs))"
   ]
  },
  {
   "attachments": {},
   "cell_type": "markdown",
   "metadata": {},
   "source": [
    "# part two"
   ]
  },
  {
   "cell_type": "code",
   "execution_count": 3,
   "metadata": {},
   "outputs": [
    {
     "name": "stdout",
     "output_type": "stream",
     "text": [
      "pairs: 897\n"
     ]
    }
   ],
   "source": [
    "n_cover_up_pairs = 0\n",
    "for line in lines:\n",
    "    elf1_start, elf1_end, elf2_start, elf2_end = line\n",
    "    if not (elf1_end < elf2_start or elf2_end < elf1_start):\n",
    "        n_cover_up_pairs += 1\n",
    "print('pairs: ' + str(n_cover_up_pairs))"
   ]
  }
 ],
 "metadata": {
  "kernelspec": {
   "display_name": "Python 3",
   "language": "python",
   "name": "python3"
  },
  "language_info": {
   "codemirror_mode": {
    "name": "ipython",
    "version": 3
   },
   "file_extension": ".py",
   "mimetype": "text/x-python",
   "name": "python",
   "nbconvert_exporter": "python",
   "pygments_lexer": "ipython3",
   "version": "3.9.6"
  },
  "orig_nbformat": 4,
  "vscode": {
   "interpreter": {
    "hash": "23b37b2c5ef3af92e6c5a1f41260f4d7d87b94b19a6a0241a9df183c040122f9"
   }
  }
 },
 "nbformat": 4,
 "nbformat_minor": 2
}
