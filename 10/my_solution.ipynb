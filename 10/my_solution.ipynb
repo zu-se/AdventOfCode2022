{
 "cells": [
  {
   "attachments": {},
   "cell_type": "markdown",
   "metadata": {},
   "source": [
    "# import and format"
   ]
  },
  {
   "cell_type": "code",
   "execution_count": 5,
   "metadata": {},
   "outputs": [],
   "source": [
    "import re\n",
    "\n",
    "input = 'input_example.txt'\n",
    "input = 'input.txt'\n",
    "\n",
    "lines = open(input).readlines()"
   ]
  },
  {
   "attachments": {},
   "cell_type": "markdown",
   "metadata": {},
   "source": [
    "# solution"
   ]
  },
  {
   "cell_type": "code",
   "execution_count": 6,
   "metadata": {},
   "outputs": [],
   "source": [
    "# fill x register\n",
    "x_register = []\n",
    "current_value = 1\n",
    "for line in lines:\n",
    "    string_list = re.findall('-*\\d{1,}',line)\n",
    "    # addx\n",
    "    if len(string_list) > 0:\n",
    "        x_register.extend([current_value, current_value])\n",
    "        add_value = int(string_list[-1])\n",
    "        current_value += add_value\n",
    "        continue\n",
    "    # noop\n",
    "    x_register.append(current_value)"
   ]
  },
  {
   "attachments": {},
   "cell_type": "markdown",
   "metadata": {},
   "source": [
    "## part one"
   ]
  },
  {
   "cell_type": "code",
   "execution_count": 7,
   "metadata": {},
   "outputs": [
    {
     "name": "stdout",
     "output_type": "stream",
     "text": [
      "20 * 21 = 420\n",
      "60 * 21 = 1260\n",
      "100 * 21 = 2100\n",
      "140 * 16 = 2240\n",
      "180 * 6 = 1080\n",
      "220 * 21 = 4620\n",
      "sum: 11720\n"
     ]
    }
   ],
   "source": [
    "# print sum every 40th value beginning with 20th\n",
    "total = 0\n",
    "for i_cycle in range(20, len(x_register), 40):\n",
    "    signal_strength = i_cycle*x_register[i_cycle-1]\n",
    "    total += signal_strength\n",
    "    print('{} * {} = {}'.format(i_cycle, x_register[i_cycle-1], signal_strength)) # -1 for the definition of 'during' a cycle\n",
    "print('sum: {}'.format(total))"
   ]
  },
  {
   "attachments": {},
   "cell_type": "markdown",
   "metadata": {},
   "source": [
    "## part two"
   ]
  },
  {
   "cell_type": "code",
   "execution_count": 8,
   "metadata": {},
   "outputs": [
    {
     "name": "stdout",
     "output_type": "stream",
     "text": [
      "####.###...##..###..####.###...##....##.\n",
      "#....#..#.#..#.#..#.#....#..#.#..#....#.\n",
      "###..#..#.#....#..#.###..#..#.#.......#.\n",
      "#....###..#....###..#....###..#.......#.\n",
      "#....#.#..#..#.#.#..#....#....#..#.#..#.\n",
      "####.#..#..##..#..#.####.#.....##...##.."
     ]
    }
   ],
   "source": [
    "display_width = 40\n",
    "for i_cycle, sprite_position in enumerate(x_register):\n",
    "    line_position = i_cycle % display_width\n",
    "    if line_position == 0 and i_cycle != 0:\n",
    "        print('')\n",
    "    if line_position >= sprite_position-1 and line_position <= sprite_position+1:\n",
    "        print('#', end='')\n",
    "    else:\n",
    "        print('.', end='')"
   ]
  }
 ],
 "metadata": {
  "kernelspec": {
   "display_name": "Python 3",
   "language": "python",
   "name": "python3"
  },
  "language_info": {
   "codemirror_mode": {
    "name": "ipython",
    "version": 3
   },
   "file_extension": ".py",
   "mimetype": "text/x-python",
   "name": "python",
   "nbconvert_exporter": "python",
   "pygments_lexer": "ipython3",
   "version": "3.9.6"
  },
  "orig_nbformat": 4,
  "vscode": {
   "interpreter": {
    "hash": "23b37b2c5ef3af92e6c5a1f41260f4d7d87b94b19a6a0241a9df183c040122f9"
   }
  }
 },
 "nbformat": 4,
 "nbformat_minor": 2
}
