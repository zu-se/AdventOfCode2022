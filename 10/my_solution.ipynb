{
 "cells": [
  {
   "cell_type": "code",
   "execution_count": 66,
   "metadata": {},
   "outputs": [],
   "source": [
    "import re\n",
    "with open('input.txt') as file:\n",
    "    lines = file.readlines()"
   ]
  },
  {
   "cell_type": "code",
   "execution_count": 67,
   "metadata": {},
   "outputs": [
    {
     "name": "stdout",
     "output_type": "stream",
     "text": [
      "240\n"
     ]
    }
   ],
   "source": [
    "# determine number of cycles\n",
    "n_cycles = 0\n",
    "noop_check = re.compile('.*noop.*')\n",
    "add_check = re.compile('.*addx.*')\n",
    "for line in lines:\n",
    "    if noop_check.match(line) != None:\n",
    "        n_cycles += 1\n",
    "    if add_check.match(line) != None:\n",
    "        n_cycles += 2\n",
    "print(n_cycles)"
   ]
  },
  {
   "cell_type": "code",
   "execution_count": 68,
   "metadata": {},
   "outputs": [],
   "source": [
    "# fill x register\n",
    "x_register = [0] * n_cycles\n",
    "current_value = 1\n",
    "i_cycle = 0\n",
    "n_cycles_when_add = 2\n",
    "for line in lines:\n",
    "    if noop_check.match(line) != None:\n",
    "        x_register[i_cycle] = current_value\n",
    "        i_cycle += 1\n",
    "        continue\n",
    "    if add_check.match(line) != None:\n",
    "        for i in range(n_cycles_when_add):\n",
    "            x_register[i_cycle] = current_value\n",
    "            i_cycle += 1\n",
    "        add_value = int(re.split(' ', line)[1])\n",
    "        current_value += add_value"
   ]
  },
  {
   "cell_type": "code",
   "execution_count": 69,
   "metadata": {},
   "outputs": [
    {
     "name": "stdout",
     "output_type": "stream",
     "text": [
      "20 * 21 = 420\n",
      "60 * 21 = 1260\n",
      "100 * 21 = 2100\n",
      "140 * 16 = 2240\n",
      "180 * 6 = 1080\n",
      "220 * 21 = 4620\n",
      "sum: 11720\n"
     ]
    }
   ],
   "source": [
    "# print sum every 40th value beginning with 20th\n",
    "sum = 0\n",
    "for i_cycle in range(20, len(x_register), 40):\n",
    "    signal_strength = i_cycle*x_register[i_cycle-1]\n",
    "    sum += signal_strength\n",
    "    print('{} * {} = {}'.format(i_cycle, x_register[i_cycle-1], signal_strength)) # -1 for the definition of 'during' a cycle\n",
    "print('sum: {}'.format(sum))"
   ]
  },
  {
   "cell_type": "code",
   "execution_count": 70,
   "metadata": {},
   "outputs": [
    {
     "name": "stdout",
     "output_type": "stream",
     "text": [
      "####.###...##..###..####.###...##....##.\n",
      "#....#..#.#..#.#..#.#....#..#.#..#....#.\n",
      "###..#..#.#....#..#.###..#..#.#.......#.\n",
      "#....###..#....###..#....###..#.......#.\n",
      "#....#.#..#..#.#.#..#....#....#..#.#..#.\n",
      "####.#..#..##..#..#.####.#.....##...##.."
     ]
    }
   ],
   "source": [
    "display_width = 40\n",
    "for i_cycle, sprite_position in enumerate(x_register):\n",
    "    line_position = i_cycle % display_width\n",
    "    if line_position == 0 and i_cycle != 0:\n",
    "        print('')\n",
    "    if line_position >= sprite_position-1 and line_position <= sprite_position+1:\n",
    "        print('#', end='')\n",
    "    else:\n",
    "        print('.', end='')"
   ]
  }
 ],
 "metadata": {
  "kernelspec": {
   "display_name": "Python 3",
   "language": "python",
   "name": "python3"
  },
  "language_info": {
   "codemirror_mode": {
    "name": "ipython",
    "version": 3
   },
   "file_extension": ".py",
   "mimetype": "text/x-python",
   "name": "python",
   "nbconvert_exporter": "python",
   "pygments_lexer": "ipython3",
   "version": "3.9.6"
  },
  "orig_nbformat": 4,
  "vscode": {
   "interpreter": {
    "hash": "23b37b2c5ef3af92e6c5a1f41260f4d7d87b94b19a6a0241a9df183c040122f9"
   }
  }
 },
 "nbformat": 4,
 "nbformat_minor": 2
}
