{
 "cells": [
  {
   "attachments": {},
   "cell_type": "markdown",
   "metadata": {},
   "source": [
    "# import and format"
   ]
  },
  {
   "cell_type": "code",
   "execution_count": 123,
   "metadata": {},
   "outputs": [],
   "source": [
    "import re\n",
    "\n",
    "#input = 'input_example.txt'\n",
    "input = 'input.txt'\n",
    "elfes = open(input).read().split('\\n\\n')\n",
    "elfes = [[int(int_value) for int_value in re.findall('\\d{1,}', string)] for string in elfes]"
   ]
  },
  {
   "attachments": {},
   "cell_type": "markdown",
   "metadata": {},
   "source": [
    "# sum up calories per elf"
   ]
  },
  {
   "cell_type": "code",
   "execution_count": 124,
   "metadata": {},
   "outputs": [],
   "source": [
    "calorie_sums = [0] * len(elfes)\n",
    "for i_elf, elf in enumerate(elfes):\n",
    "    for snack in elf:\n",
    "        calorie_sums[i_elf] += snack"
   ]
  },
  {
   "attachments": {},
   "cell_type": "markdown",
   "metadata": {},
   "source": [
    "# search 3 biggest elfs"
   ]
  },
  {
   "cell_type": "code",
   "execution_count": 125,
   "metadata": {},
   "outputs": [
    {
     "name": "stdout",
     "output_type": "stream",
     "text": [
      "elf 113 has the most calories with 71124\n",
      "the top 3 elfs carrying 204639 calories\n"
     ]
    }
   ],
   "source": [
    "n_max = 3\n",
    "max_indices = [0] * n_max\n",
    "max_sums = [0] * n_max\n",
    "for i_elf, calorie_sum in enumerate(calorie_sums):\n",
    "    # is current sum bigger than any of the max sums?\n",
    "    if any([calorie_sum > _sum for _sum in max_sums]):\n",
    "        # search minimum of max sums and replace\n",
    "        i_min = 0\n",
    "        min_sum = max_sums[0]\n",
    "        for i_max_sum in range(1,n_max):\n",
    "            if max_sums[i_max_sum] < min_sum:\n",
    "                i_min = i_max_sum\n",
    "                min_sum = max_sums[i_max_sum]\n",
    "        max_sums[i_min] = calorie_sum\n",
    "        max_indices[i_min] = i_elf\n",
    "# sort\n",
    "max_elfs = [[i_elf, sum] for i_elf, sum in zip(max_indices, max_sums)]\n",
    "max_elfs.sort(key=lambda x:x[-1], reverse=True)\n",
    "\n",
    "print(\"elf {} has the most calories with {}\".format(max_elfs[0][0]+1, max_elfs[0][1]))\n",
    "print(\"the top 3 elfs carrying {} calories\".format(sum(max_sums)))"
   ]
  }
 ],
 "metadata": {
  "kernelspec": {
   "display_name": "Python 3",
   "language": "python",
   "name": "python3"
  },
  "language_info": {
   "codemirror_mode": {
    "name": "ipython",
    "version": 3
   },
   "file_extension": ".py",
   "mimetype": "text/x-python",
   "name": "python",
   "nbconvert_exporter": "python",
   "pygments_lexer": "ipython3",
   "version": "3.9.6"
  },
  "orig_nbformat": 4,
  "vscode": {
   "interpreter": {
    "hash": "23b37b2c5ef3af92e6c5a1f41260f4d7d87b94b19a6a0241a9df183c040122f9"
   }
  }
 },
 "nbformat": 4,
 "nbformat_minor": 2
}
