{
 "cells": [
  {
   "cell_type": "code",
   "execution_count": null,
   "metadata": {},
   "outputs": [],
   "source": [
    "import numpy as np\n",
    "with open('input.txt') as file:\n",
    "    paths = file.read().split('\\n')\n",
    "starting_point = np.array([500, 0])"
   ]
  },
  {
   "cell_type": "code",
   "execution_count": null,
   "metadata": {},
   "outputs": [],
   "source": [
    "import time\n",
    "from IPython.display import display, clear_output\n",
    "\n",
    "def print_cave_slice(cave_slice, clear=False):\n",
    "    string = ''\n",
    "    for row in np.transpose(cave_slice):\n",
    "        for char in row:\n",
    "            string += char\n",
    "        string += '\\n'\n",
    "    if clear:\n",
    "        clear_output(wait=True)\n",
    "    print(string)\n",
    "    time.sleep(0.05)"
   ]
  },
  {
   "cell_type": "code",
   "execution_count": null,
   "metadata": {},
   "outputs": [],
   "source": [
    "# returns True if position is free and false otherwise\n",
    "# returns None if position is outside of cave_slice\n",
    "def is_free(position, cave_slice):\n",
    "    if not (all(position >= 0) and all(position < cave_slice.shape)):\n",
    "        return None\n",
    "    return cave_slice[tuple(position)] == '.'\n",
    "\n",
    "# returns the new position or None if movement was not possible inside cave_slice\n",
    "def move_sand(position, cave_slice):\n",
    "    moves = np.array([[0,1], [-1,0], [2,0]])\n",
    "    new_position = position.copy()\n",
    "    for move in moves:\n",
    "        new_position += move\n",
    "        return_value = is_free(new_position, cave_slice)\n",
    "        if type(return_value) == type(None):\n",
    "            return None\n",
    "        if return_value:\n",
    "            return new_position\n",
    "    return position"
   ]
  },
  {
   "cell_type": "code",
   "execution_count": null,
   "metadata": {},
   "outputs": [],
   "source": [
    "def draw_cave(all_paths, x_min, x_max, y_min, y_max):\n",
    "    cave_slice = np.empty((x_max-x_min+1, y_max+1), dtype=str)\n",
    "    cave_slice.fill('.')\n",
    "    for path in all_paths:\n",
    "        for i_line in range(len(path)-1):\n",
    "            x_coords = [path[i_line,0] - x_min, path[i_line+1,0] - x_min]\n",
    "            y_coords = [path[i_line,1], path[i_line+1,1]]\n",
    "            x0 = min(x_coords)\n",
    "            x1 = max(x_coords)\n",
    "            y0 = min(y_coords)\n",
    "            y1 = max(y_coords)\n",
    "            cave_slice[x0:x1+1,y0:y1+1] = '#'\n",
    "    return cave_slice"
   ]
  },
  {
   "cell_type": "code",
   "execution_count": null,
   "metadata": {},
   "outputs": [],
   "source": [
    "def fill_cave(cave_slice, starting_point, printing=False):\n",
    "    n_sand_particles = 0\n",
    "    done = False\n",
    "    while not done:\n",
    "        start_position = starting_point - np.array([x_min, 0])\n",
    "        cave_slice[tuple(start_position)] = '+'\n",
    "        old_position = np.array(start_position)\n",
    "        n_sand_particles += 1\n",
    "        sand_is_placed = False\n",
    "        while not sand_is_placed:\n",
    "            new_position = move_sand(old_position, cave_slice)\n",
    "            if type(new_position) == type(None):\n",
    "                n_sand_particles -= 1\n",
    "                done = True\n",
    "                break\n",
    "            if all(new_position == start_position):\n",
    "                done = True\n",
    "                break\n",
    "            if all(new_position == old_position):\n",
    "                sand_is_placed = True\n",
    "                break\n",
    "            cave_slice[tuple(old_position)] = '.'\n",
    "            cave_slice[tuple(new_position)] = '+'\n",
    "            old_position = new_position\n",
    "\n",
    "            if printing:\n",
    "                print_cave_slice(cave_slice, clear=True)\n",
    "    if printing:\n",
    "        print_cave_slice(cave_slice, clear=True)\n",
    "    return n_sand_particles"
   ]
  },
  {
   "attachments": {},
   "cell_type": "markdown",
   "metadata": {},
   "source": [
    "# Import"
   ]
  },
  {
   "cell_type": "code",
   "execution_count": null,
   "metadata": {},
   "outputs": [],
   "source": [
    "all_paths = [0] * len(paths)\n",
    "for i_path, path in enumerate(paths):\n",
    "    splitted = path.split(' -> ')\n",
    "    this_path = [0] * len(splitted)\n",
    "    for i, straight_line in enumerate(splitted):\n",
    "        this_path[i] = list(eval(straight_line))\n",
    "    all_paths[i_path] = np.array(this_path)"
   ]
  },
  {
   "cell_type": "code",
   "execution_count": null,
   "metadata": {},
   "outputs": [],
   "source": [
    "# min max from all paths\n",
    "all_chords = np.concatenate(all_paths)\n",
    "x_min = all_chords[:,0].min()\n",
    "x_max = all_chords[:,0].max()\n",
    "y_min = all_chords[:,1].min()\n",
    "y_max = all_chords[:,1].max()"
   ]
  },
  {
   "attachments": {},
   "cell_type": "markdown",
   "metadata": {},
   "source": [
    "# Part One"
   ]
  },
  {
   "cell_type": "code",
   "execution_count": null,
   "metadata": {},
   "outputs": [],
   "source": [
    "cave_slice = draw_cave(all_paths, x_min, x_max, y_min, y_max)\n",
    "n_sand = fill_cave(cave_slice, starting_point, printing=False)\n",
    "print(n_sand)"
   ]
  },
  {
   "attachments": {},
   "cell_type": "markdown",
   "metadata": {},
   "source": [
    "# Part Two"
   ]
  },
  {
   "cell_type": "code",
   "execution_count": null,
   "metadata": {},
   "outputs": [],
   "source": [
    "# add bottom line\n",
    "y_max += 2\n",
    "left_right_margin = y_max + 1\n",
    "x_min = min(starting_point[0] - left_right_margin, x_min)\n",
    "x_max = max(starting_point[0] + left_right_margin, x_max)\n",
    "all_paths.append(np.array([[x_min, y_max],[x_max, y_max]]))"
   ]
  },
  {
   "cell_type": "code",
   "execution_count": null,
   "metadata": {},
   "outputs": [],
   "source": [
    "cave_slice = draw_cave(all_paths, x_min, x_max, y_min, y_max)\n",
    "n_sand = fill_cave(cave_slice, starting_point, printing=False)\n",
    "print(n_sand)"
   ]
  },
  {
   "cell_type": "code",
   "execution_count": null,
   "metadata": {},
   "outputs": [],
   "source": [
    "print_cave_slice(cave_slice)"
   ]
  }
 ],
 "metadata": {
  "kernelspec": {
   "display_name": "Python 3",
   "language": "python",
   "name": "python3"
  },
  "language_info": {
   "codemirror_mode": {
    "name": "ipython",
    "version": 3
   },
   "file_extension": ".py",
   "mimetype": "text/x-python",
   "name": "python",
   "nbconvert_exporter": "python",
   "pygments_lexer": "ipython3",
   "version": "3.9.6"
  },
  "orig_nbformat": 4,
  "vscode": {
   "interpreter": {
    "hash": "23b37b2c5ef3af92e6c5a1f41260f4d7d87b94b19a6a0241a9df183c040122f9"
   }
  }
 },
 "nbformat": 4,
 "nbformat_minor": 2
}
