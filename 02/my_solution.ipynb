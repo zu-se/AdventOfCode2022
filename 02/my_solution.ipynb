{
 "cells": [
  {
   "attachments": {},
   "cell_type": "markdown",
   "metadata": {},
   "source": [
    "# import and format"
   ]
  },
  {
   "cell_type": "code",
   "execution_count": 1,
   "metadata": {},
   "outputs": [],
   "source": [
    "import re\n",
    "\n",
    "input = 'input_example.txt'\n",
    "input = 'input.txt'\n",
    "\n",
    "rounds = open(input).read().split('\\n')"
   ]
  },
  {
   "attachments": {},
   "cell_type": "markdown",
   "metadata": {},
   "source": [
    "# part one"
   ]
  },
  {
   "cell_type": "code",
   "execution_count": 2,
   "metadata": {},
   "outputs": [
    {
     "name": "stdout",
     "output_type": "stream",
     "text": [
      "11150\n"
     ]
    }
   ],
   "source": [
    "lut = {\n",
    "    'A X': [1,3],\n",
    "    'B Y': [2,3],\n",
    "    'C Z': [3,3], \n",
    "    'A Y': [2,6],\n",
    "    'B Z': [3,6],\n",
    "    'C X': [1,6],\n",
    "    'A Z': [3,0],\n",
    "    'B X': [1,0],\n",
    "    'C Y': [2,0]\n",
    "}\n",
    "score = 0\n",
    "for _round in rounds:\n",
    "    score_round = lut[_round]\n",
    "    score += sum(score_round)\n",
    "print(score)\n"
   ]
  },
  {
   "attachments": {},
   "cell_type": "markdown",
   "metadata": {},
   "source": [
    "# part two"
   ]
  },
  {
   "cell_type": "code",
   "execution_count": 3,
   "metadata": {},
   "outputs": [
    {
     "name": "stdout",
     "output_type": "stream",
     "text": [
      "8295\n"
     ]
    }
   ],
   "source": [
    "lut = {\n",
    "    'A X': [3,0],#z\n",
    "    'B Y': [2,3],#y\n",
    "    'C Z': [1,6],#x \n",
    "    'A Y': [1,3],#x\n",
    "    'B Z': [3,6],#z\n",
    "    'C X': [2,0],#y\n",
    "    'A Z': [2,6],#y\n",
    "    'B X': [1,0],#x\n",
    "    'C Y': [3,3]#z\n",
    "}\n",
    "score = 0\n",
    "for _round in rounds:\n",
    "    score_round = lut[_round]\n",
    "    score += sum(score_round)\n",
    "print(score)"
   ]
  }
 ],
 "metadata": {
  "kernelspec": {
   "display_name": "Python 3",
   "language": "python",
   "name": "python3"
  },
  "language_info": {
   "codemirror_mode": {
    "name": "ipython",
    "version": 3
   },
   "file_extension": ".py",
   "mimetype": "text/x-python",
   "name": "python",
   "nbconvert_exporter": "python",
   "pygments_lexer": "ipython3",
   "version": "3.9.6"
  },
  "orig_nbformat": 4,
  "vscode": {
   "interpreter": {
    "hash": "23b37b2c5ef3af92e6c5a1f41260f4d7d87b94b19a6a0241a9df183c040122f9"
   }
  }
 },
 "nbformat": 4,
 "nbformat_minor": 2
}
